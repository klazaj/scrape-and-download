{
 "cells": [
  {
   "cell_type": "code",
   "execution_count": 1,
   "metadata": {},
   "outputs": [],
   "source": [
    "from selenium import webdriver\n",
    "from selenium.webdriver.common.keys import Keys\n",
    "from selenium.webdriver.support.ui import Select\n",
    "from selenium.webdriver.support.ui import WebDriverWait\n",
    "import time\n",
    "import youtube_dl"
   ]
  },
  {
   "cell_type": "code",
   "execution_count": null,
   "metadata": {},
   "outputs": [],
   "source": [
    "from selenium import webdriver\n",
    "from selenium.webdriver.common.keys import Keys\n",
    "from selenium.webdriver.support.ui import Select\n",
    "from selenium.webdriver.support.ui import WebDriverWait\n",
    "import time\n",
    "\n",
    "driver = webdriver.Chrome('/home/kejsi/Downloads/chromedriver_linux64/chromedriver')\n",
    "\n",
    "driver.get('https://app.akademi.al/landing_page/login')\n",
    "\n",
    "user = input()\n",
    "passw = input()\n",
    "\n",
    "username = driver.find_element_by_id(\"username\")\n",
    "password = driver.find_element_by_id(\"password\")\n",
    "username.send_keys(user)\n",
    "password.send_keys(passw)\n",
    "driver.find_element_by_class_name(\"full_width_button\").click()\n",
    "\n",
    "time.sleep(2)\n",
    "\n",
    "driver.get('https://app.akademi.al/subjects/materials/video/7920c58f-6e6d-4e70-a996-ae3fde3998e0')\n",
    "\n",
    "lst_vids = []\n",
    "lst_titles = []\n",
    "\n",
    "while(1):\n",
    "    time.sleep(2)\n",
    "    driver.switch_to.frame(driver.find_element_by_tag_name(\"iframe\"))\n",
    "    vid = driver.find_element_by_css_selector(\".ytp-title-link\").get_attribute('href')\n",
    "    driver.switch_to.default_content()\n",
    "    \n",
    "    title = driver.find_element_by_css_selector(\"span.text.text_font_size_24.text_line_height_32.text_font_wheight_regular.color-gray-8\").text\n",
    "    if title in lst_titles:\n",
    "        break\n",
    "\n",
    "    print(vid)\n",
    "    print(title)\n",
    "        \n",
    "    lst_vids.append(vid)\n",
    "    lst_titles.append(title)    \n",
    "    time.sleep(2)\n",
    "\n",
    "    driver.find_element_by_class_name('lessonMaterial__button__fullWidth').click()\n",
    "    \n",
    "driver.close()"
   ]
  },
  {
   "cell_type": "code",
   "execution_count": 9,
   "metadata": {},
   "outputs": [],
   "source": [
    "lst_titles = lst_titles[5:]"
   ]
  },
  {
   "cell_type": "code",
   "execution_count": 10,
   "metadata": {},
   "outputs": [],
   "source": [
    "lst_vids = lst_vids[5:]"
   ]
  },
  {
   "cell_type": "code",
   "execution_count": 11,
   "metadata": {},
   "outputs": [
    {
     "data": {
      "text/plain": [
       "['Ndërtimi i tabelës periodike.',\n",
       " 'Ushtrime. Sistemi periodik.',\n",
       " 'Vetitë e elementeve sipas vendit nё sistemin periodik.',\n",
       " 'Vetitë fizike-kimike të elementeve të grupit IA.',\n",
       " 'Vetitë fizike-kimike të elementeve të grupit VIIA.',\n",
       " 'Karakteristikat e elementeve të grupit VIIIA.',\n",
       " 'Ushtrime',\n",
       " 'Ajri dhe përbërja e tij.']"
      ]
     },
     "execution_count": 11,
     "metadata": {},
     "output_type": "execute_result"
    }
   ],
   "source": [
    "lst_titles"
   ]
  },
  {
   "cell_type": "code",
   "execution_count": 118,
   "metadata": {},
   "outputs": [
    {
     "data": {
      "text/plain": [
       "['https://www.youtube.com/watch?v=QAdmPZLvtfU',\n",
       " 'https://www.youtube.com/watch?list=PLdMaVhpmb3MpjHD9Uq3fylP902oGnKRTY&v=0pE6HmkU59s',\n",
       " 'https://www.youtube.com/watch?v=CY9WhnjWNns',\n",
       " 'https://www.youtube.com/watch?list=PLdMaVhpmb3MqXARMj5e-3GiBHL59uj49O&v=vVWMjz4slfQ']"
      ]
     },
     "execution_count": 118,
     "metadata": {},
     "output_type": "execute_result"
    }
   ],
   "source": [
    "lst_vids"
   ]
  },
  {
   "cell_type": "code",
   "execution_count": 7,
   "metadata": {},
   "outputs": [],
   "source": [
    "dictionary = dict(zip(lst_titles, lst_vids))"
   ]
  },
  {
   "cell_type": "code",
   "execution_count": 12,
   "metadata": {},
   "outputs": [
    {
     "name": "stdout",
     "output_type": "stream",
     "text": [
      "Evolucioni i modelit të atomit. https://www.youtube.com/watch?v=mNCRM-90Ckk\n",
      "[youtube] mNCRM-90Ckk: Downloading webpage\n",
      "[youtube] mNCRM-90Ckk: Downloading MPD manifest\n",
      "[download] Kimi9/Evolucioni i modelit të atomit. has already been downloaded\n",
      "[download] 100% of 134.87MiB\n",
      "Numri atomik dhe numri i masës. https://www.youtube.com/watch?list=PLdMaVhpmb3MrtaG0MlOL_NFWCciN0v5gF&v=R6t4C2f1dng\n",
      "[youtube] R6t4C2f1dng: Downloading webpage\n",
      "[youtube] R6t4C2f1dng: Downloading MPD manifest\n",
      "[download] Kimi9/Numri atomik dhe numri i masës. has already been downloaded\n",
      "[download] 100% of 52.52MiB\n",
      "Ushtrime. Numri atomik dhe numri i masës. https://www.youtube.com/watch?list=PLdMaVhpmb3MrtaG0MlOL_NFWCciN0v5gF&v=4dgkblvRngY\n",
      "[youtube] 4dgkblvRngY: Downloading webpage\n",
      "[youtube] 4dgkblvRngY: Downloading MPD manifest\n",
      "[download] Kimi9/Ushtrime. Numri atomik dhe numri i masës. has already been downloaded\n",
      "[download] 100% of 61.49MiB\n",
      "Shpërndarja e elektroneve. https://www.youtube.com/watch?list=PLdMaVhpmb3MrtaG0MlOL_NFWCciN0v5gF&v=XYBQ2fwml-k\n",
      "[youtube] XYBQ2fwml-k: Downloading webpage\n",
      "[youtube] XYBQ2fwml-k: Downloading MPD manifest\n",
      "[download] Kimi9/Shpërndarja e elektroneve. has already been downloaded\n",
      "[download] 100% of 78.04MiB\n",
      "Ushtrime. Shpërndarja e elektroneve. https://www.youtube.com/watch?list=PLdMaVhpmb3MrtaG0MlOL_NFWCciN0v5gF&v=x20apfik8JY\n",
      "[youtube] x20apfik8JY: Downloading webpage\n",
      "[youtube] x20apfik8JY: Downloading MPD manifest\n",
      "[download] Kimi9/Ushtrime. Shpërndarja e elektroneve. has already been downloaded\n",
      "[download] 100% of 85.21MiB\n",
      "Ndërtimi i tabelës periodike. https://www.youtube.com/watch?list=PLdMaVhpmb3MrtaG0MlOL_NFWCciN0v5gF&v=Rh0Oh-mS8vM\n",
      "[youtube] Rh0Oh-mS8vM: Downloading webpage\n",
      "[youtube] Rh0Oh-mS8vM: Downloading MPD manifest\n",
      "[download] Destination: Kimi9/Ndërtimi i tabelës periodike.\n",
      "[download] 100% of 87.21MiB in 00:0922MiB/s ETA 00:006\n",
      "Ushtrime. Sistemi periodik. https://www.youtube.com/watch?list=PLdMaVhpmb3MrtaG0MlOL_NFWCciN0v5gF&v=9Mv7PQWUOi0\n",
      "[youtube] 9Mv7PQWUOi0: Downloading webpage\n",
      "[youtube] 9Mv7PQWUOi0: Downloading MPD manifest\n",
      "[download] Destination: Kimi9/Ushtrime. Sistemi periodik.\n",
      "[download] 100% of 75.59MiB in 00:0611MiB/s ETA 00:002\n",
      "Vetitë e elementeve sipas vendit nё sistemin periodik. https://www.youtube.com/watch?list=PLdMaVhpmb3MrtaG0MlOL_NFWCciN0v5gF&v=AKJCl6FYpMA\n",
      "[youtube] AKJCl6FYpMA: Downloading webpage\n",
      "[youtube] AKJCl6FYpMA: Downloading MPD manifest\n",
      "[download] Destination: Kimi9/Vetitë e elementeve sipas vendit nё sistemin periodik.\n",
      "[download] 100% of 60.14MiB in 00:0515MiB/s ETA 00:005\n",
      "Vetitë fizike-kimike të elementeve të grupit IA. https://www.youtube.com/watch?list=PLdMaVhpmb3MrtaG0MlOL_NFWCciN0v5gF&v=iJEk5igboXY\n",
      "[youtube] iJEk5igboXY: Downloading webpage\n",
      "[youtube] iJEk5igboXY: Downloading MPD manifest\n",
      "[download] Destination: Kimi9/Vetitë fizike-kimike të elementeve të grupit IA.\n",
      "[download] 100% of 52.55MiB in 00:0544MiB/s ETA 00:0022\n",
      "Vetitë fizike-kimike të elementeve të grupit VIIA. https://www.youtube.com/watch?list=PLdMaVhpmb3MrtaG0MlOL_NFWCciN0v5gF&v=0J7xCdihDOU\n",
      "[youtube] 0J7xCdihDOU: Downloading webpage\n",
      "[youtube] 0J7xCdihDOU: Downloading MPD manifest\n",
      "[download] Destination: Kimi9/Vetitë fizike-kimike të elementeve të grupit VIIA.\n",
      "[download] 100% of 93.82MiB in 00:0739MiB/s ETA 00:008\n",
      "Karakteristikat e elementeve të grupit VIIIA. https://www.youtube.com/watch?list=PLdMaVhpmb3MrtaG0MlOL_NFWCciN0v5gF&v=2lYT9X89x7Q\n",
      "[youtube] 2lYT9X89x7Q: Downloading webpage\n",
      "[youtube] 2lYT9X89x7Q: Downloading MPD manifest\n",
      "[download] Destination: Kimi9/Karakteristikat e elementeve të grupit VIIIA.\n",
      "[download] 100% of 51.15MiB in 00:0414MiB/s ETA 00:004\n",
      "Ushtrime https://www.youtube.com/watch?list=PLdMaVhpmb3MrtaG0MlOL_NFWCciN0v5gF&v=UjUS9rEFFX8\n",
      "[youtube] UjUS9rEFFX8: Downloading webpage\n",
      "[youtube] UjUS9rEFFX8: Downloading MPD manifest\n",
      "[download] Destination: Kimi9/Ushtrime\n",
      "[download] 100% of 51.25MiB in 00:0465MiB/s ETA 00:008\n",
      "Ajri dhe përbërja e tij. https://www.youtube.com/watch?v=0emrYquuSkE\n",
      "[youtube] 0emrYquuSkE: Downloading webpage\n",
      "[youtube] 0emrYquuSkE: Downloading MPD manifest\n",
      "[download] Destination: Kimi9/Ajri dhe përbërja e tij.\n",
      "[download] 100% of 110.85MiB in 00:1526MiB/s ETA 00:0033own ETA\n"
     ]
    }
   ],
   "source": [
    "for title, video in dictionary.items():\n",
    "    print(title, video)\n",
    "    ydl_opts = {'outtmpl': 'Kimi9/' +title}\n",
    "    with youtube_dl.YoutubeDL(ydl_opts) as ydl:\n",
    "        ydl.download([video])"
   ]
  }
 ],
 "metadata": {
  "kernelspec": {
   "display_name": "Python 3",
   "language": "python",
   "name": "python3"
  },
  "language_info": {
   "codemirror_mode": {
    "name": "ipython",
    "version": 3
   },
   "file_extension": ".py",
   "mimetype": "text/x-python",
   "name": "python",
   "nbconvert_exporter": "python",
   "pygments_lexer": "ipython3",
   "version": "3.8.5"
  }
 },
 "nbformat": 4,
 "nbformat_minor": 4
}
